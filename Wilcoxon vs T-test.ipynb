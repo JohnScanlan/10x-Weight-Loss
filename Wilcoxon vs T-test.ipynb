{
 "cells": [
  {
   "cell_type": "markdown",
   "id": "d52b57d7",
   "metadata": {},
   "source": [
    "## Exploring the Difference between T-Test and Wilcoxon Methods for the Scanpy rank genes method\n",
    "\n",
    "https://scanpy.readthedocs.io/en/stable/generated/scanpy.tl.rank_genes_groups.html \n",
    "    \n",
    "The data here are genes with p-values obtained from using the t-test and the wilcoxon test. T-Test has a high false positive rate as it returns 6964 genes in comparison to 2656 genes using Wilcoxon.\n",
    "\n",
    "It is important to recognise that these methods will affect all downstream analysis such as pathway."
   ]
  },
  {
   "cell_type": "code",
   "execution_count": 1,
   "id": "13cde9d8",
   "metadata": {},
   "outputs": [],
   "source": [
    "import scanpy as sc\n",
    "import numpy as np\n",
    "import pandas as pd\n",
    "import matplotlib.pyplot as plt\n",
    "import seaborn as sns\n",
    "from matplotlib.pyplot import rc_context\n",
    "import plotly.express as px"
   ]
  },
  {
   "cell_type": "code",
   "execution_count": 2,
   "id": "67232f64",
   "metadata": {},
   "outputs": [],
   "source": [
    "df1 = pd.read_excel('t-test wilcoxon.xlsx')"
   ]
  },
  {
   "cell_type": "code",
   "execution_count": 3,
   "id": "81a9a7da",
   "metadata": {},
   "outputs": [
    {
     "data": {
      "text/html": [
       "<div>\n",
       "<style scoped>\n",
       "    .dataframe tbody tr th:only-of-type {\n",
       "        vertical-align: middle;\n",
       "    }\n",
       "\n",
       "    .dataframe tbody tr th {\n",
       "        vertical-align: top;\n",
       "    }\n",
       "\n",
       "    .dataframe thead th {\n",
       "        text-align: right;\n",
       "    }\n",
       "</style>\n",
       "<table border=\"1\" class=\"dataframe\">\n",
       "  <thead>\n",
       "    <tr style=\"text-align: right;\">\n",
       "      <th></th>\n",
       "      <th>t_test_genes</th>\n",
       "      <th>p_value</th>\n",
       "      <th>wilcoxon_genes</th>\n",
       "      <th>p_value.1</th>\n",
       "    </tr>\n",
       "  </thead>\n",
       "  <tbody>\n",
       "    <tr>\n",
       "      <th>6959</th>\n",
       "      <td>EXOC5</td>\n",
       "      <td>0.049619</td>\n",
       "      <td>NaN</td>\n",
       "      <td>NaN</td>\n",
       "    </tr>\n",
       "    <tr>\n",
       "      <th>6960</th>\n",
       "      <td>AC011468.5</td>\n",
       "      <td>0.049764</td>\n",
       "      <td>NaN</td>\n",
       "      <td>NaN</td>\n",
       "    </tr>\n",
       "    <tr>\n",
       "      <th>6961</th>\n",
       "      <td>AL138966.2</td>\n",
       "      <td>0.049785</td>\n",
       "      <td>NaN</td>\n",
       "      <td>NaN</td>\n",
       "    </tr>\n",
       "    <tr>\n",
       "      <th>6962</th>\n",
       "      <td>IFIT3</td>\n",
       "      <td>0.049914</td>\n",
       "      <td>NaN</td>\n",
       "      <td>NaN</td>\n",
       "    </tr>\n",
       "    <tr>\n",
       "      <th>6963</th>\n",
       "      <td>FUCA2</td>\n",
       "      <td>0.049953</td>\n",
       "      <td>NaN</td>\n",
       "      <td>NaN</td>\n",
       "    </tr>\n",
       "  </tbody>\n",
       "</table>\n",
       "</div>"
      ],
      "text/plain": [
       "     t_test_genes   p_value wilcoxon_genes  p_value.1\n",
       "6959        EXOC5  0.049619            NaN        NaN\n",
       "6960   AC011468.5  0.049764            NaN        NaN\n",
       "6961   AL138966.2  0.049785            NaN        NaN\n",
       "6962        IFIT3  0.049914            NaN        NaN\n",
       "6963        FUCA2  0.049953            NaN        NaN"
      ]
     },
     "execution_count": 3,
     "metadata": {},
     "output_type": "execute_result"
    }
   ],
   "source": [
    "df1.tail()"
   ]
  },
  {
   "cell_type": "code",
   "execution_count": 4,
   "id": "0c7508ff",
   "metadata": {},
   "outputs": [
    {
     "data": {
      "text/plain": [
       "FAM71D      1\n",
       "CLK2        1\n",
       "TMED1       1\n",
       "SAMMSON     1\n",
       "CENPB       1\n",
       "           ..\n",
       "TBC1D10B    1\n",
       "C1orf52     1\n",
       "FNBP1       1\n",
       "SAYSD1      1\n",
       "NOL4L       1\n",
       "Name: t_test_genes, Length: 6964, dtype: int64"
      ]
     },
     "execution_count": 4,
     "metadata": {},
     "output_type": "execute_result"
    }
   ],
   "source": [
    "df1.t_test_genes.value_counts()"
   ]
  },
  {
   "cell_type": "code",
   "execution_count": 5,
   "id": "2b7b2b22",
   "metadata": {},
   "outputs": [
    {
     "data": {
      "text/plain": [
       "PSD4          1\n",
       "TSPAN5        1\n",
       "ATP2B4        1\n",
       "PHLDB2        1\n",
       "RCN2          1\n",
       "             ..\n",
       "CARNS1        1\n",
       "AC022706.1    1\n",
       "SERTAD3       1\n",
       "TBX21         1\n",
       "NOL4L         1\n",
       "Name: wilcoxon_genes, Length: 2656, dtype: int64"
      ]
     },
     "execution_count": 5,
     "metadata": {},
     "output_type": "execute_result"
    }
   ],
   "source": [
    "df1.wilcoxon_genes.value_counts()"
   ]
  },
  {
   "cell_type": "code",
   "execution_count": null,
   "id": "f4097e88",
   "metadata": {},
   "outputs": [],
   "source": []
  }
 ],
 "metadata": {
  "kernelspec": {
   "display_name": "Python 3 (ipykernel)",
   "language": "python",
   "name": "python3"
  },
  "language_info": {
   "codemirror_mode": {
    "name": "ipython",
    "version": 3
   },
   "file_extension": ".py",
   "mimetype": "text/x-python",
   "name": "python",
   "nbconvert_exporter": "python",
   "pygments_lexer": "ipython3",
   "version": "3.7.0"
  }
 },
 "nbformat": 4,
 "nbformat_minor": 5
}
