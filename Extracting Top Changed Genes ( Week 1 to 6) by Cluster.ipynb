{
 "cells": [
  {
   "cell_type": "markdown",
   "id": "526a535e",
   "metadata": {},
   "source": [
    "## Extracting Top Changed Genes \n",
    "\n",
    "Here, we sort the top changed genes between week 1 and week 6 per cluster. The genes are then extracted into a csv file for future use if neeeded. For example, we pick out the top 29 genes for CD56 Dim NK cells based on their mean difference between week 1 and week 6.\n",
    "\n",
    "    \n",
    "    "
   ]
  },
  {
   "cell_type": "code",
   "execution_count": 1,
   "id": "b2bc6f66",
   "metadata": {},
   "outputs": [],
   "source": [
    "import pandas as pd\n",
    "import numpy as np\n",
    "import scanpy as sc\n",
    "import matplotlib.pyplot as plt\n",
    "import seaborn as sns\n",
    "import plotly.express as px\n",
    "from sklearn.metrics import mean_squared_error, r2_score\n",
    "from sklearn import linear_model"
   ]
  },
  {
   "cell_type": "code",
   "execution_count": 2,
   "id": "f44db1e9",
   "metadata": {},
   "outputs": [],
   "source": [
    "all_genes = pd.read_csv('all_genes.csv')"
   ]
  },
  {
   "cell_type": "code",
   "execution_count": 3,
   "id": "42135b30",
   "metadata": {},
   "outputs": [],
   "source": [
    "genes = all_genes[all_genes.leiden == 'CD16+ Monocytes']"
   ]
  },
  {
   "cell_type": "code",
   "execution_count": 4,
   "id": "025f916d",
   "metadata": {},
   "outputs": [
    {
     "data": {
      "text/plain": [
       "(2968, 3003)"
      ]
     },
     "execution_count": 4,
     "metadata": {},
     "output_type": "execute_result"
    }
   ],
   "source": [
    "genes.shape"
   ]
  },
  {
   "cell_type": "markdown",
   "id": "5185389a",
   "metadata": {},
   "source": [
    "#### Creating mean calculations for each time point."
   ]
  },
  {
   "cell_type": "code",
   "execution_count": 5,
   "id": "e4947cdf",
   "metadata": {},
   "outputs": [
    {
     "name": "stderr",
     "output_type": "stream",
     "text": [
      "C:\\Users\\crtuser\\anaconda3\\envs\\scanpy\\lib\\site-packages\\pandas\\core\\indexing.py:670: SettingWithCopyWarning: \n",
      "A value is trying to be set on a copy of a slice from a DataFrame\n",
      "\n",
      "See the caveats in the documentation: https://pandas.pydata.org/pandas-docs/stable/user_guide/indexing.html#returning-a-view-versus-a-copy\n",
      "  iloc._setitem_with_indexer(indexer, value)\n",
      "C:\\Users\\crtuser\\anaconda3\\envs\\scanpy\\lib\\site-packages\\pandas\\core\\indexing.py:670: SettingWithCopyWarning: \n",
      "A value is trying to be set on a copy of a slice from a DataFrame\n",
      "\n",
      "See the caveats in the documentation: https://pandas.pydata.org/pandas-docs/stable/user_guide/indexing.html#returning-a-view-versus-a-copy\n",
      "  iloc._setitem_with_indexer(indexer, value)\n",
      "C:\\Users\\crtuser\\anaconda3\\envs\\scanpy\\lib\\site-packages\\pandas\\core\\indexing.py:670: SettingWithCopyWarning: \n",
      "A value is trying to be set on a copy of a slice from a DataFrame\n",
      "\n",
      "See the caveats in the documentation: https://pandas.pydata.org/pandas-docs/stable/user_guide/indexing.html#returning-a-view-versus-a-copy\n",
      "  iloc._setitem_with_indexer(indexer, value)\n"
     ]
    }
   ],
   "source": [
    "genes.loc['mean_t0'] = genes[genes.Time == 1].mean()\n",
    "genes.loc['mean_t1'] = genes[genes.Time == 2].mean()\n",
    "genes.loc['mean_t2'] = genes[genes.Time == 3].mean()"
   ]
  },
  {
   "cell_type": "code",
   "execution_count": 6,
   "id": "967ff331",
   "metadata": {},
   "outputs": [
    {
     "name": "stderr",
     "output_type": "stream",
     "text": [
      "C:\\Users\\crtuser\\anaconda3\\envs\\scanpy\\lib\\site-packages\\pandas\\core\\frame.py:4174: SettingWithCopyWarning: \n",
      "A value is trying to be set on a copy of a slice from a DataFrame\n",
      "\n",
      "See the caveats in the documentation: https://pandas.pydata.org/pandas-docs/stable/user_guide/indexing.html#returning-a-view-versus-a-copy\n",
      "  errors=errors,\n"
     ]
    }
   ],
   "source": [
    "genes.drop(columns=genes.columns[0], axis=1, inplace=True)"
   ]
  },
  {
   "cell_type": "code",
   "execution_count": 7,
   "id": "d4a8e50c",
   "metadata": {},
   "outputs": [],
   "source": [
    "genes.loc['diff'] = abs(genes.loc['mean_t0'] - genes.loc['mean_t2'])"
   ]
  },
  {
   "cell_type": "code",
   "execution_count": 8,
   "id": "3c090b80",
   "metadata": {},
   "outputs": [
    {
     "data": {
      "text/html": [
       "<div>\n",
       "<style scoped>\n",
       "    .dataframe tbody tr th:only-of-type {\n",
       "        vertical-align: middle;\n",
       "    }\n",
       "\n",
       "    .dataframe tbody tr th {\n",
       "        vertical-align: top;\n",
       "    }\n",
       "\n",
       "    .dataframe thead th {\n",
       "        text-align: right;\n",
       "    }\n",
       "</style>\n",
       "<table border=\"1\" class=\"dataframe\">\n",
       "  <thead>\n",
       "    <tr style=\"text-align: right;\">\n",
       "      <th></th>\n",
       "      <th>HES4</th>\n",
       "      <th>ISG15</th>\n",
       "      <th>AL645608.2</th>\n",
       "      <th>TNFRSF18</th>\n",
       "      <th>TNFRSF4</th>\n",
       "      <th>MMP23B</th>\n",
       "      <th>CALML6</th>\n",
       "      <th>PLCH2</th>\n",
       "      <th>PRDM16</th>\n",
       "      <th>CCDC27</th>\n",
       "      <th>...</th>\n",
       "      <th>AIRE</th>\n",
       "      <th>KRTAP12-3</th>\n",
       "      <th>COL6A2</th>\n",
       "      <th>FTCD</th>\n",
       "      <th>PCNT</th>\n",
       "      <th>DIP2A</th>\n",
       "      <th>S100B</th>\n",
       "      <th>AC233755.2</th>\n",
       "      <th>Time</th>\n",
       "      <th>leiden</th>\n",
       "    </tr>\n",
       "  </thead>\n",
       "  <tbody>\n",
       "    <tr>\n",
       "      <th>diff</th>\n",
       "      <td>0.784649</td>\n",
       "      <td>0.096617</td>\n",
       "      <td>0.0</td>\n",
       "      <td>0.006469</td>\n",
       "      <td>0.021443</td>\n",
       "      <td>0.023628</td>\n",
       "      <td>0.010985</td>\n",
       "      <td>0.022998</td>\n",
       "      <td>3.469447e-18</td>\n",
       "      <td>0.0</td>\n",
       "      <td>...</td>\n",
       "      <td>0.0</td>\n",
       "      <td>8.673617e-19</td>\n",
       "      <td>0.002705</td>\n",
       "      <td>0.011</td>\n",
       "      <td>0.078461</td>\n",
       "      <td>0.097196</td>\n",
       "      <td>0.026032</td>\n",
       "      <td>3.469447e-18</td>\n",
       "      <td>2.0</td>\n",
       "      <td>NaN</td>\n",
       "    </tr>\n",
       "  </tbody>\n",
       "</table>\n",
       "<p>1 rows × 3002 columns</p>\n",
       "</div>"
      ],
      "text/plain": [
       "          HES4     ISG15  AL645608.2  TNFRSF18   TNFRSF4    MMP23B    CALML6  \\\n",
       "diff  0.784649  0.096617         0.0  0.006469  0.021443  0.023628  0.010985   \n",
       "\n",
       "         PLCH2        PRDM16  CCDC27  ...  AIRE     KRTAP12-3    COL6A2  \\\n",
       "diff  0.022998  3.469447e-18     0.0  ...   0.0  8.673617e-19  0.002705   \n",
       "\n",
       "       FTCD      PCNT     DIP2A     S100B    AC233755.2  Time  leiden  \n",
       "diff  0.011  0.078461  0.097196  0.026032  3.469447e-18   2.0     NaN  \n",
       "\n",
       "[1 rows x 3002 columns]"
      ]
     },
     "execution_count": 8,
     "metadata": {},
     "output_type": "execute_result"
    }
   ],
   "source": [
    "genes.iloc[-1:]"
   ]
  },
  {
   "cell_type": "code",
   "execution_count": 12,
   "id": "1951affc",
   "metadata": {},
   "outputs": [],
   "source": [
    "genes.sort_values(by = ['diff'], axis = 1, inplace=True)"
   ]
  },
  {
   "cell_type": "code",
   "execution_count": 13,
   "id": "94817313",
   "metadata": {},
   "outputs": [
    {
     "data": {
      "text/html": [
       "<div>\n",
       "<style scoped>\n",
       "    .dataframe tbody tr th:only-of-type {\n",
       "        vertical-align: middle;\n",
       "    }\n",
       "\n",
       "    .dataframe tbody tr th {\n",
       "        vertical-align: top;\n",
       "    }\n",
       "\n",
       "    .dataframe thead th {\n",
       "        text-align: right;\n",
       "    }\n",
       "</style>\n",
       "<table border=\"1\" class=\"dataframe\">\n",
       "  <thead>\n",
       "    <tr style=\"text-align: right;\">\n",
       "      <th></th>\n",
       "      <th>AC007619.1</th>\n",
       "      <th>FAM9B</th>\n",
       "      <th>ACE2</th>\n",
       "      <th>OSBPL6</th>\n",
       "      <th>AC019080.4</th>\n",
       "      <th>AC096649.1</th>\n",
       "      <th>GABRG3</th>\n",
       "      <th>IGHV1-69</th>\n",
       "      <th>KLHL41</th>\n",
       "      <th>IGHV3-49</th>\n",
       "      <th>...</th>\n",
       "      <th>CCR1</th>\n",
       "      <th>MEG3</th>\n",
       "      <th>C3AR1</th>\n",
       "      <th>CKB</th>\n",
       "      <th>LYPD2</th>\n",
       "      <th>SAMSN1</th>\n",
       "      <th>RASGEF1B</th>\n",
       "      <th>C5AR2</th>\n",
       "      <th>Time</th>\n",
       "      <th>leiden</th>\n",
       "    </tr>\n",
       "  </thead>\n",
       "  <tbody>\n",
       "    <tr>\n",
       "      <th>74120</th>\n",
       "      <td>-0.0174026</td>\n",
       "      <td>-0.0155403</td>\n",
       "      <td>-0.00945945</td>\n",
       "      <td>-0.0218095</td>\n",
       "      <td>-0.0253368</td>\n",
       "      <td>-0.0136748</td>\n",
       "      <td>-0.00794873</td>\n",
       "      <td>-0.0122509</td>\n",
       "      <td>-0.00870811</td>\n",
       "      <td>-0.0166764</td>\n",
       "      <td>...</td>\n",
       "      <td>-0.318619</td>\n",
       "      <td>-0.0758231</td>\n",
       "      <td>2.44843</td>\n",
       "      <td>3.70508</td>\n",
       "      <td>-0.0969112</td>\n",
       "      <td>3.58347</td>\n",
       "      <td>1.31759</td>\n",
       "      <td>9.91657</td>\n",
       "      <td>3</td>\n",
       "      <td>CD16+ Monocytes</td>\n",
       "    </tr>\n",
       "    <tr>\n",
       "      <th>mean_t0</th>\n",
       "      <td>-0.0174026</td>\n",
       "      <td>-0.0155403</td>\n",
       "      <td>-0.00945945</td>\n",
       "      <td>-0.0218095</td>\n",
       "      <td>-0.0253368</td>\n",
       "      <td>-0.0136748</td>\n",
       "      <td>-0.00794873</td>\n",
       "      <td>-0.0122509</td>\n",
       "      <td>-0.00870811</td>\n",
       "      <td>-0.0166764</td>\n",
       "      <td>...</td>\n",
       "      <td>0.28581</td>\n",
       "      <td>0.626882</td>\n",
       "      <td>1.36653</td>\n",
       "      <td>1.70077</td>\n",
       "      <td>1.18286</td>\n",
       "      <td>0.617945</td>\n",
       "      <td>0.91017</td>\n",
       "      <td>1.09229</td>\n",
       "      <td>1</td>\n",
       "      <td>NaN</td>\n",
       "    </tr>\n",
       "    <tr>\n",
       "      <th>mean_t1</th>\n",
       "      <td>-0.0174026</td>\n",
       "      <td>0.00451082</td>\n",
       "      <td>-0.00945945</td>\n",
       "      <td>-0.0218095</td>\n",
       "      <td>-0.0253368</td>\n",
       "      <td>-0.0136748</td>\n",
       "      <td>-0.00794873</td>\n",
       "      <td>-0.0122509</td>\n",
       "      <td>-0.00870811</td>\n",
       "      <td>-0.0166764</td>\n",
       "      <td>...</td>\n",
       "      <td>0.449221</td>\n",
       "      <td>1.10367</td>\n",
       "      <td>2.04539</td>\n",
       "      <td>2.56155</td>\n",
       "      <td>2.02086</td>\n",
       "      <td>0.567568</td>\n",
       "      <td>0.660191</td>\n",
       "      <td>1.44538</td>\n",
       "      <td>2</td>\n",
       "      <td>NaN</td>\n",
       "    </tr>\n",
       "    <tr>\n",
       "      <th>mean_t2</th>\n",
       "      <td>-0.0174026</td>\n",
       "      <td>-0.0155403</td>\n",
       "      <td>-0.00945945</td>\n",
       "      <td>-0.0218095</td>\n",
       "      <td>-0.0253368</td>\n",
       "      <td>-0.0136748</td>\n",
       "      <td>-0.00794873</td>\n",
       "      <td>-0.0122509</td>\n",
       "      <td>-0.00870811</td>\n",
       "      <td>-0.0166764</td>\n",
       "      <td>...</td>\n",
       "      <td>1.1099</td>\n",
       "      <td>1.47128</td>\n",
       "      <td>2.21265</td>\n",
       "      <td>2.72883</td>\n",
       "      <td>2.25903</td>\n",
       "      <td>1.70948</td>\n",
       "      <td>2.04822</td>\n",
       "      <td>2.29523</td>\n",
       "      <td>3</td>\n",
       "      <td>NaN</td>\n",
       "    </tr>\n",
       "    <tr>\n",
       "      <th>diff</th>\n",
       "      <td>0</td>\n",
       "      <td>0</td>\n",
       "      <td>0</td>\n",
       "      <td>0</td>\n",
       "      <td>0</td>\n",
       "      <td>0</td>\n",
       "      <td>0</td>\n",
       "      <td>0</td>\n",
       "      <td>0</td>\n",
       "      <td>0</td>\n",
       "      <td>...</td>\n",
       "      <td>0.82409</td>\n",
       "      <td>0.844398</td>\n",
       "      <td>0.846126</td>\n",
       "      <td>1.02806</td>\n",
       "      <td>1.07616</td>\n",
       "      <td>1.09153</td>\n",
       "      <td>1.13805</td>\n",
       "      <td>1.20294</td>\n",
       "      <td>2</td>\n",
       "      <td>NaN</td>\n",
       "    </tr>\n",
       "  </tbody>\n",
       "</table>\n",
       "<p>5 rows × 3002 columns</p>\n",
       "</div>"
      ],
      "text/plain": [
       "        AC007619.1       FAM9B        ACE2     OSBPL6 AC019080.4 AC096649.1  \\\n",
       "74120   -0.0174026  -0.0155403 -0.00945945 -0.0218095 -0.0253368 -0.0136748   \n",
       "mean_t0 -0.0174026  -0.0155403 -0.00945945 -0.0218095 -0.0253368 -0.0136748   \n",
       "mean_t1 -0.0174026  0.00451082 -0.00945945 -0.0218095 -0.0253368 -0.0136748   \n",
       "mean_t2 -0.0174026  -0.0155403 -0.00945945 -0.0218095 -0.0253368 -0.0136748   \n",
       "diff             0           0           0          0          0          0   \n",
       "\n",
       "             GABRG3   IGHV1-69      KLHL41   IGHV3-49  ...      CCR1  \\\n",
       "74120   -0.00794873 -0.0122509 -0.00870811 -0.0166764  ... -0.318619   \n",
       "mean_t0 -0.00794873 -0.0122509 -0.00870811 -0.0166764  ...   0.28581   \n",
       "mean_t1 -0.00794873 -0.0122509 -0.00870811 -0.0166764  ...  0.449221   \n",
       "mean_t2 -0.00794873 -0.0122509 -0.00870811 -0.0166764  ...    1.1099   \n",
       "diff              0          0           0          0  ...   0.82409   \n",
       "\n",
       "              MEG3     C3AR1      CKB      LYPD2    SAMSN1  RASGEF1B    C5AR2  \\\n",
       "74120   -0.0758231   2.44843  3.70508 -0.0969112   3.58347   1.31759  9.91657   \n",
       "mean_t0   0.626882   1.36653  1.70077    1.18286  0.617945   0.91017  1.09229   \n",
       "mean_t1    1.10367   2.04539  2.56155    2.02086  0.567568  0.660191  1.44538   \n",
       "mean_t2    1.47128   2.21265  2.72883    2.25903   1.70948   2.04822  2.29523   \n",
       "diff      0.844398  0.846126  1.02806    1.07616   1.09153   1.13805  1.20294   \n",
       "\n",
       "        Time           leiden  \n",
       "74120      3  CD16+ Monocytes  \n",
       "mean_t0    1              NaN  \n",
       "mean_t1    2              NaN  \n",
       "mean_t2    3              NaN  \n",
       "diff       2              NaN  \n",
       "\n",
       "[5 rows x 3002 columns]"
      ]
     },
     "execution_count": 13,
     "metadata": {},
     "output_type": "execute_result"
    }
   ],
   "source": [
    "genes.tail()"
   ]
  },
  {
   "cell_type": "code",
   "execution_count": 14,
   "id": "b3983daa",
   "metadata": {},
   "outputs": [],
   "source": [
    "genes = genes.iloc[-4:, -31:]"
   ]
  },
  {
   "cell_type": "code",
   "execution_count": 15,
   "id": "5d11be7d",
   "metadata": {},
   "outputs": [],
   "source": [
    "genes.to_csv('CD16+ Monocytes.csv')"
   ]
  }
 ],
 "metadata": {
  "kernelspec": {
   "display_name": "Python 3 (ipykernel)",
   "language": "python",
   "name": "python3"
  },
  "language_info": {
   "codemirror_mode": {
    "name": "ipython",
    "version": 3
   },
   "file_extension": ".py",
   "mimetype": "text/x-python",
   "name": "python",
   "nbconvert_exporter": "python",
   "pygments_lexer": "ipython3",
   "version": "3.7.0"
  }
 },
 "nbformat": 4,
 "nbformat_minor": 5
}
